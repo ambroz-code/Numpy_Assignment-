{
  "cells": [
    {
      "attachments": {},
      "cell_type": "markdown",
      "metadata": {
        "id": "aTz0cvx7Iex3"
      },
      "source": [
        "## Numpy Assignment\n",
        "Student Name: MUBANGIZI AMBROSE\n",
        "\n",
        "## Instructions:\n",
        "- Please complete the questions below.\n",
        "- for each cell, complete it with good essays and code examples\n",
        "- Please comment your code indicating how you approached the problem"
      ]
    },
    {
      "attachments": {},
      "cell_type": "markdown",
      "metadata": {
        "id": "NwKEk4skG5c2"
      },
      "source": [
        "# What is NumPy, and what are some of its key features?\n"
      ]
    },
    {
      "cell_type": "markdown",
      "metadata": {},
      "source": [
        "NumPy (Numerical Python) is a powerful open-source library for numerical computing in Python. It provides support for large, multi-dimensional arrays and matrices, along with a large collection of mathematical functions to operate on these arrays efficiently.\n",
        "\n",
        "\n",
        "Key Features:\n",
        "Efficient storage and manipulation of numerical arrays.\n",
        "\n",
        "Vectorized operations (avoiding slow Python loops).\n",
        "\n",
        "Broadcasting capabilities to perform arithmetic on arrays of different shapes.\n",
        "\n",
        "Integration with C/C++/Fortran for high-performance computations.\n",
        "\n",
        "Useful functions for linear algebra, Fourier transform, statistics, and random number generation."
      ]
    },
    {
      "attachments": {},
      "cell_type": "markdown",
      "metadata": {
        "id": "OMqoIR7oJD0i"
      },
      "source": [
        "# How do you create a NumPy array using Python's built-in range() function?\n"
      ]
    },
    {
      "cell_type": "markdown",
      "metadata": {},
      "source": [
        "We can convert a Python range into a NumPy array using np.array() or np.arange()."
      ]
    },
    {
      "cell_type": "code",
      "execution_count": 1,
      "metadata": {},
      "outputs": [
        {
          "name": "stdout",
          "output_type": "stream",
          "text": [
            "Using range(): [0 1 2 3 4 5 6 7 8 9]\n",
            "Using np.arange(): [0 1 2 3 4 5 6 7 8 9]\n"
          ]
        }
      ],
      "source": [
        "import numpy as np\n",
        "\n",
        "# Using range() and np.array()\n",
        "arr1 = np.array(range(0, 10))\n",
        "print(\"Using range():\", arr1)\n",
        "\n",
        "# Or using np.arange(), which is more direct\n",
        "arr2 = np.arange(0, 10)\n",
        "print(\"Using np.arange():\", arr2)\n"
      ]
    },
    {
      "attachments": {},
      "cell_type": "markdown",
      "metadata": {
        "id": "DRVy8tPoJHQr"
      },
      "source": [
        "# What is the difference between a scalar value and a vector in NumPy?\n",
        "with code example"
      ]
    },
    {
      "cell_type": "markdown",
      "metadata": {},
      "source": [
        "A scalar is a single number (0-dimensional array).\n",
        "\n",
        "A vector is a 1-dimensional array of numbers."
      ]
    },
    {
      "cell_type": "code",
      "execution_count": 2,
      "metadata": {},
      "outputs": [
        {
          "name": "stdout",
          "output_type": "stream",
          "text": [
            "Scalar: 5 | Shape: ()\n",
            "Vector: [1 2 3] | Shape: (3,)\n"
          ]
        }
      ],
      "source": [
        "scalar = np.array(5)  # scalar\n",
        "print(\"Scalar:\", scalar, \"| Shape:\", scalar.shape)\n",
        "\n",
        "vector = np.array([1, 2, 3])  # vector\n",
        "print(\"Vector:\", vector, \"| Shape:\", vector.shape)\n"
      ]
    },
    {
      "attachments": {},
      "cell_type": "markdown",
      "metadata": {
        "id": "lHa-pHerJKd0"
      },
      "source": [
        "# How do you calculate the mean of a NumPy array using the mean() function?\n",
        "\n",
        "Examples \n",
        "\n"
      ]
    },
    {
      "cell_type": "markdown",
      "metadata": {},
      "source": [
        "The mean() function computes the average of array elements."
      ]
    },
    {
      "cell_type": "code",
      "execution_count": 3,
      "metadata": {},
      "outputs": [
        {
          "name": "stdout",
          "output_type": "stream",
          "text": [
            "Mean of the array: 30.0\n"
          ]
        }
      ],
      "source": [
        "arr = np.array([10, 20, 30, 40, 50])\n",
        "mean_val = np.mean(arr)\n",
        "print(\"Mean of the array:\", mean_val)\n"
      ]
    },
    {
      "attachments": {},
      "cell_type": "markdown",
      "metadata": {
        "id": "EqpLGTh8JON9"
      },
      "source": [
        "# What is broadcasting in NumPy, and how can it be useful?\n"
      ]
    },
    {
      "cell_type": "markdown",
      "metadata": {},
      "source": [
        "Broadcasting allows NumPy to perform operations on arrays of different shapes without copying data. It expands smaller arrays so they match the shape of larger arrays during arithmetic operations."
      ]
    },
    {
      "cell_type": "markdown",
      "metadata": {},
      "source": [
        "Example"
      ]
    },
    {
      "cell_type": "code",
      "execution_count": 4,
      "metadata": {},
      "outputs": [
        {
          "name": "stdout",
          "output_type": "stream",
          "text": [
            "Broadcasting result: [6 7 8]\n"
          ]
        }
      ],
      "source": [
        "a = np.array([1, 2, 3])\n",
        "b = 5  # scalar\n",
        "\n",
        "# Broadcasting b to match shape of a\n",
        "result = a + b\n",
        "print(\"Broadcasting result:\", result)\n"
      ]
    },
    {
      "attachments": {},
      "cell_type": "markdown",
      "metadata": {},
      "source": [
        "# How can you slice a NumPy array to extract a subarray?\n",
        "\n",
        "\n"
      ]
    },
    {
      "cell_type": "markdown",
      "metadata": {},
      "source": [
        "Slicing allows access to sub-parts of an array using start:stop:step syntax."
      ]
    },
    {
      "cell_type": "markdown",
      "metadata": {},
      "source": [
        "Example"
      ]
    },
    {
      "cell_type": "code",
      "execution_count": 5,
      "metadata": {},
      "outputs": [
        {
          "name": "stdout",
          "output_type": "stream",
          "text": [
            "Sliced subarray: [20 30 40]\n"
          ]
        }
      ],
      "source": [
        "arr = np.array([10, 20, 30, 40, 50])\n",
        "sub_arr = arr[1:4]  # Elements at index 1, 2, 3\n",
        "print(\"Sliced subarray:\", sub_arr)\n"
      ]
    },
    {
      "attachments": {},
      "cell_type": "markdown",
      "metadata": {
        "id": "c1jTMq5AJbS2"
      },
      "source": [
        "# What are some of the available functions for performing element-wise operations on NumPy arrays?\n"
      ]
    },
    {
      "cell_type": "markdown",
      "metadata": {},
      "source": [
        "Common element-wise operations:\n",
        "np.add(), np.subtract(), np.multiply(), np.divide()\n",
        "\n",
        "np.sqrt(), np.square(), np.exp(), np.log()"
      ]
    },
    {
      "cell_type": "markdown",
      "metadata": {},
      "source": [
        "Example"
      ]
    },
    {
      "cell_type": "code",
      "execution_count": 6,
      "metadata": {},
      "outputs": [
        {
          "name": "stdout",
          "output_type": "stream",
          "text": [
            "Addition: [5 7 9]\n",
            "Square root: [1.         1.41421356 1.73205081]\n"
          ]
        }
      ],
      "source": [
        "a = np.array([1, 2, 3])\n",
        "b = np.array([4, 5, 6])\n",
        "\n",
        "print(\"Addition:\", np.add(a, b))\n",
        "print(\"Square root:\", np.sqrt(a))\n"
      ]
    },
    {
      "cell_type": "markdown",
      "metadata": {
        "id": "dPgmCPERJe_2"
      },
      "source": [
        "# How do you reshape a NumPy array to have a different shape?\n",
        "\n",
        "\n",
        "\n"
      ]
    },
    {
      "cell_type": "markdown",
      "metadata": {},
      "source": [
        "Using reshape() to change the dimensions of an array."
      ]
    },
    {
      "cell_type": "markdown",
      "metadata": {},
      "source": [
        "Example"
      ]
    },
    {
      "cell_type": "code",
      "execution_count": 7,
      "metadata": {},
      "outputs": [
        {
          "name": "stdout",
          "output_type": "stream",
          "text": [
            "Reshaped array:\n",
            " [[ 0  1  2  3]\n",
            " [ 4  5  6  7]\n",
            " [ 8  9 10 11]]\n"
          ]
        }
      ],
      "source": [
        "arr = np.arange(12)  # 1D array with 12 elements\n",
        "reshaped = arr.reshape(3, 4)  # 3 rows, 4 columns\n",
        "print(\"Reshaped array:\\n\", reshaped)\n"
      ]
    },
    {
      "attachments": {},
      "cell_type": "markdown",
      "metadata": {},
      "source": [
        "# How do you perform matrix multiplication on two NumPy arrays using the dot() function?\n"
      ]
    },
    {
      "cell_type": "markdown",
      "metadata": {},
      "source": [
        "Example"
      ]
    },
    {
      "cell_type": "code",
      "execution_count": 8,
      "metadata": {},
      "outputs": [
        {
          "name": "stdout",
          "output_type": "stream",
          "text": [
            "Matrix multiplication:\n",
            " [[19 22]\n",
            " [43 50]]\n"
          ]
        }
      ],
      "source": [
        "A = np.array([[1, 2], [3, 4]])\n",
        "B = np.array([[5, 6], [7, 8]])\n",
        "\n",
        "product = np.dot(A, B)\n",
        "print(\"Matrix multiplication:\\n\", product)\n"
      ]
    },
    {
      "cell_type": "markdown",
      "metadata": {
        "id": "JtbVS5P0Jodg"
      },
      "source": [
        "# How can you use the where() function to apply a condition to a NumPy array?\n"
      ]
    },
    {
      "cell_type": "markdown",
      "metadata": {},
      "source": [
        "The np.where() function returns elements or indices based on a condition."
      ]
    },
    {
      "cell_type": "markdown",
      "metadata": {},
      "source": [
        "Example"
      ]
    },
    {
      "cell_type": "code",
      "execution_count": 9,
      "metadata": {},
      "outputs": [
        {
          "name": "stdout",
          "output_type": "stream",
          "text": [
            "Conditionally replaced array: [ 10  15  20 100 100]\n"
          ]
        }
      ],
      "source": [
        "arr = np.array([10, 15, 20, 25, 30])\n",
        "\n",
        "# Replace values greater than 20 with 100\n",
        "new_arr = np.where(arr > 20, 100, arr)\n",
        "print(\"Conditionally replaced array:\", new_arr)\n"
      ]
    },
    {
      "attachments": {},
      "cell_type": "markdown",
      "metadata": {},
      "source": [
        "# What is the difference between the flatten() and ravel() functions in NumPy?\n",
        "\n",
        "\n"
      ]
    },
    {
      "cell_type": "markdown",
      "metadata": {},
      "source": [
        "flatten() returns a copy of the array (changes don’t affect original).\n",
        "\n",
        "ravel() returns a view (modifying it may change the original array)."
      ]
    },
    {
      "cell_type": "code",
      "execution_count": 10,
      "metadata": {},
      "outputs": [
        {
          "name": "stdout",
          "output_type": "stream",
          "text": [
            "Flatten: [1 2 3 4]\n",
            "Ravel: [1 2 3 4]\n"
          ]
        }
      ],
      "source": [
        "arr = np.array([[1, 2], [3, 4]])\n",
        "\n",
        "flat = arr.flatten()\n",
        "rvl = arr.ravel()\n",
        "\n",
        "print(\"Flatten:\", flat)\n",
        "print(\"Ravel:\", rvl)\n"
      ]
    },
    {
      "attachments": {},
      "cell_type": "markdown",
      "metadata": {},
      "source": [
        "# How do you use NumPy's advanced indexing capabilities to select specific elements from an array?\n"
      ]
    },
    {
      "cell_type": "markdown",
      "metadata": {},
      "source": [
        "Use lists or arrays of indices for fancy indexing."
      ]
    },
    {
      "cell_type": "code",
      "execution_count": 11,
      "metadata": {},
      "outputs": [
        {
          "name": "stdout",
          "output_type": "stream",
          "text": [
            "Selected elements: [20 40 50]\n"
          ]
        }
      ],
      "source": [
        "arr = np.array([10, 20, 30, 40, 50])\n",
        "\n",
        "# Select elements at index 1, 3, and 4\n",
        "indices = [1, 3, 4]\n",
        "selected = arr[indices]\n",
        "print(\"Selected elements:\", selected)\n"
      ]
    },
    {
      "attachments": {},
      "cell_type": "markdown",
      "metadata": {
        "id": "b2NpOnu2JxMp"
      },
      "source": [
        "# How can you use NumPy's broadcasting rules to perform operations on arrays with different shapes?"
      ]
    },
    {
      "cell_type": "markdown",
      "metadata": {},
      "source": [
        "If shapes are compatible, NumPy broadcasts smaller arrays to match larger ones during operations."
      ]
    },
    {
      "cell_type": "code",
      "execution_count": 12,
      "metadata": {},
      "outputs": [
        {
          "name": "stdout",
          "output_type": "stream",
          "text": [
            "Broadcasted addition:\n",
            " [[11 21 31]\n",
            " [12 22 32]\n",
            " [13 23 33]]\n"
          ]
        }
      ],
      "source": [
        "A = np.array([[1], [2], [3]])  # Shape (3,1)\n",
        "B = np.array([10, 20, 30])     # Shape (3,)\n",
        "\n",
        "# Broadcasting: A expands to (3,3), B reshapes implicitly\n",
        "result = A + B\n",
        "print(\"Broadcasted addition:\\n\", result)\n"
      ]
    },
    {
      "cell_type": "markdown",
      "metadata": {
        "id": "XgeHrSj7KzTj"
      },
      "source": [
        "### Project: Array Statistics Calculator\n",
        "**Description:**\n",
        "\n",
        "In this project, you will create a program that allows a user to enter a list of numbers, and then calculates and displays various statistics about those numbers using NumPy.\n",
        "\n",
        "**Requirements:**\n",
        "\n",
        "- The program should prompt the user to enter a list of numbers separated by commas.\n",
        "- The program should use NumPy to convert the input into a 1D NumPy array.\n",
        "- The program should calculate and display the following statistics:\n",
        "- The mean of the numbers\n",
        "- The median of the numbers\n",
        "- The standard deviation of the numbers\n",
        "- The maximum and minimum values of the numbers\n",
        "- The program should use appropriate NumPy functions to calculate the statistics.\n",
        "- The program should display the statistics with appropriate labels.\n",
        "\n",
        "### Sample Output\n",
        "```\n",
        "Enter a list of numbers separated by commas: 2, 5, 7, 3, 1, 9\n",
        "Statistics for the input array:\n",
        "Mean: 4.5\n",
        "Median: 4.0\n",
        "Standard Deviation: 2.9154759474226504\n",
        "Maximum: 9\n",
        "Minimum: 1\n",
        "```"
      ]
    },
    {
      "cell_type": "code",
      "execution_count": 13,
      "metadata": {},
      "outputs": [
        {
          "name": "stdout",
          "output_type": "stream",
          "text": [
            "\n",
            "Statistics for the input array:\n",
            "Mean: 5.4\n",
            "Median: 6.0\n",
            "Standard Deviation: 2.5768197453450252\n",
            "Maximum: 9.0\n",
            "Minimum: 2.0\n"
          ]
        }
      ],
      "source": [
        "import numpy as np\n",
        "\n",
        "# Prompt the user for input\n",
        "user_input = input(\"Enter a list of numbers separated by commas: \")\n",
        "\n",
        "# Split the input string into a list of strings, then convert to float and make a NumPy array\n",
        "numbers = np.array([float(num.strip()) for num in user_input.split(',')])\n",
        "\n",
        "# Calculate statistics using NumPy functions\n",
        "mean_value = np.mean(numbers)\n",
        "median_value = np.median(numbers)\n",
        "std_deviation = np.std(numbers)\n",
        "max_value = np.max(numbers)\n",
        "min_value = np.min(numbers)\n",
        "\n",
        "# Display the results\n",
        "print(\"\\nStatistics for the input array:\")\n",
        "print(f\"Mean: {mean_value}\")\n",
        "print(f\"Median: {median_value}\")\n",
        "print(f\"Standard Deviation: {std_deviation}\")\n",
        "print(f\"Maximum: {max_value}\")\n",
        "print(f\"Minimum: {min_value}\")\n"
      ]
    }
  ],
  "metadata": {
    "colab": {
      "provenance": []
    },
    "kernelspec": {
      "display_name": "base",
      "language": "python",
      "name": "python3"
    },
    "language_info": {
      "codemirror_mode": {
        "name": "ipython",
        "version": 3
      },
      "file_extension": ".py",
      "mimetype": "text/x-python",
      "name": "python",
      "nbconvert_exporter": "python",
      "pygments_lexer": "ipython3",
      "version": "3.11.7"
    }
  },
  "nbformat": 4,
  "nbformat_minor": 0
}
